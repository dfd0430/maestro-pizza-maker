{
 "cells": [
  {
   "cell_type": "code",
   "metadata": {
    "ExecuteTime": {
     "end_time": "2024-09-30T09:58:26.785581Z",
     "start_time": "2024-09-30T09:58:26.531368Z"
    }
   },
   "source": [
    "from maestro_pizza_maker.pizza_menu import PizzaMenu\n",
    "from maestro_pizza_maker.pizza import Pizza\n",
    "from maestro_pizza_maker.ingredients import PizzaIngredients\n",
    "\n"
   ],
   "outputs": [],
   "execution_count": 1
  },
  {
   "cell_type": "code",
   "metadata": {
    "ExecuteTime": {
     "end_time": "2024-09-30T09:58:26.795241Z",
     "start_time": "2024-09-30T09:58:26.790043Z"
    }
   },
   "source": [
    "# consider following menu\n",
    "pizza_menu = PizzaMenu(\n",
    "    pizzas=[\n",
    "        Pizza(\n",
    "            sauce=PizzaIngredients.CREAM_SAUCE,\n",
    "            dough=PizzaIngredients.CLASSIC_DOUGH,\n",
    "            cheese=[PizzaIngredients.MOZZARELA],\n",
    "            fruits=[PizzaIngredients.PINEAPPLE],\n",
    "            meat=[PizzaIngredients.BACON, PizzaIngredients.HAM],\n",
    "            vegetables=[PizzaIngredients.ONIONS],\n",
    "        ),\n",
    "        Pizza(\n",
    "            sauce=PizzaIngredients.TOMATO_SAUCE,\n",
    "            dough=PizzaIngredients.THIN_DOUGH,\n",
    "            cheese=[PizzaIngredients.CHEDDAR],\n",
    "            fruits=[PizzaIngredients.APPLE],\n",
    "            meat=[PizzaIngredients.SAUSAGE],\n",
    "            vegetables=[PizzaIngredients.MUSHROOMS, PizzaIngredients.PEPPER],\n",
    "        ),\n",
    "        Pizza(\n",
    "            sauce=PizzaIngredients.CREAM_SAUCE,\n",
    "            dough=PizzaIngredients.WHOLEMEAL_DOUGH,\n",
    "            cheese=[PizzaIngredients.MOZZARELA, PizzaIngredients.CHEDDAR],\n",
    "            fruits=[PizzaIngredients.PINEAPPLE, PizzaIngredients.APPLE],\n",
    "            meat=[\n",
    "                PizzaIngredients.BACON,\n",
    "                PizzaIngredients.HAM,\n",
    "                PizzaIngredients.SAUSAGE,\n",
    "            ],\n",
    "            vegetables=[\n",
    "                PizzaIngredients.MUSHROOMS,\n",
    "                PizzaIngredients.ONIONS,\n",
    "                PizzaIngredients.PEPPER,\n",
    "            ],\n",
    "        ),\n",
    "        Pizza(\n",
    "            sauce=PizzaIngredients.TOMATO_SAUCE,\n",
    "            dough=PizzaIngredients.CLASSIC_DOUGH,\n",
    "            cheese=[PizzaIngredients.MOZZARELA],\n",
    "            fruits=[PizzaIngredients.PINEAPPLE],\n",
    "            meat=[PizzaIngredients.BACON, PizzaIngredients.HAM],\n",
    "            vegetables=[PizzaIngredients.ONIONS],\n",
    "        ),\n",
    "        Pizza(\n",
    "            sauce=PizzaIngredients.CREAM_SAUCE,\n",
    "            dough=PizzaIngredients.THIN_DOUGH,\n",
    "            cheese=[PizzaIngredients.CHEDDAR],\n",
    "            fruits=[PizzaIngredients.APPLE],\n",
    "            meat=[PizzaIngredients.SAUSAGE],\n",
    "            vegetables=[PizzaIngredients.MUSHROOMS, PizzaIngredients.PEPPER],\n",
    "        ),\n",
    "        Pizza(\n",
    "            sauce=PizzaIngredients.TOMATO_SAUCE,\n",
    "            dough=PizzaIngredients.WHOLEMEAL_DOUGH,\n",
    "            cheese=[PizzaIngredients.MOZZARELA, PizzaIngredients.CHEDDAR],\n",
    "            fruits=[PizzaIngredients.PINEAPPLE, PizzaIngredients.APPLE],\n",
    "            meat=[\n",
    "                PizzaIngredients.BACON,\n",
    "                PizzaIngredients.HAM,\n",
    "                PizzaIngredients.SAUSAGE,\n",
    "            ],\n",
    "            vegetables=[\n",
    "                PizzaIngredients.MUSHROOMS,\n",
    "                PizzaIngredients.ONIONS,\n",
    "                PizzaIngredients.PEPPER,\n",
    "            ],\n",
    "        ),\n",
    "        Pizza(\n",
    "            sauce=PizzaIngredients.CREAM_SAUCE,\n",
    "            dough=PizzaIngredients.CLASSIC_DOUGH,\n",
    "            cheese=[PizzaIngredients.MOZZARELA],\n",
    "            fruits=[PizzaIngredients.PINEAPPLE],\n",
    "            meat=[PizzaIngredients.BACON, PizzaIngredients.HAM],\n",
    "            vegetables=[PizzaIngredients.ONIONS],\n",
    "        ),\n",
    "        Pizza(\n",
    "            sauce=PizzaIngredients.TOMATO_SAUCE,\n",
    "            dough=PizzaIngredients.THIN_DOUGH,\n",
    "            cheese=[PizzaIngredients.CHEDDAR],\n",
    "            fruits=[PizzaIngredients.APPLE],\n",
    "            meat=[PizzaIngredients.SAUSAGE],\n",
    "            vegetables=[PizzaIngredients.MUSHROOMS, PizzaIngredients.PEPPER],\n",
    "        ),\n",
    "        Pizza(\n",
    "            sauce=PizzaIngredients.CREAM_SAUCE,\n",
    "            dough=PizzaIngredients.WHOLEMEAL_DOUGH,\n",
    "            cheese=[PizzaIngredients.MOZZARELA, PizzaIngredients.CHEDDAR],\n",
    "            fruits=[PizzaIngredients.PINEAPPLE, PizzaIngredients.APPLE],\n",
    "            meat=[\n",
    "                PizzaIngredients.BACON,\n",
    "                PizzaIngredients.HAM,\n",
    "                PizzaIngredients.SAUSAGE,\n",
    "            ],\n",
    "            vegetables=[\n",
    "                PizzaIngredients.MUSHROOMS,\n",
    "                PizzaIngredients.ONIONS,\n",
    "                PizzaIngredients.PEPPER,\n",
    "            ],\n",
    "        ),\n",
    "        Pizza(\n",
    "            sauce=PizzaIngredients.TOMATO_SAUCE,\n",
    "            dough=PizzaIngredients.CLASSIC_DOUGH,\n",
    "            cheese=[PizzaIngredients.MOZZARELA],\n",
    "            fruits=[PizzaIngredients.PINEAPPLE],\n",
    "            meat=[PizzaIngredients.BACON, PizzaIngredients.HAM],\n",
    "            vegetables=[PizzaIngredients.ONIONS],\n",
    "        ),\n",
    "    ]\n",
    ")\n"
   ],
   "outputs": [],
   "execution_count": 2
  },
  {
   "cell_type": "code",
   "metadata": {
    "ExecuteTime": {
     "end_time": "2024-09-30T09:58:27.118243Z",
     "start_time": "2024-09-30T09:58:26.900402Z"
    }
   },
   "source": [
    "# create a dataframe with the menu using the to_dataframe method you have implemented in the PizzaMenu class\n",
    "# and display it\n",
    "df = pizza_menu.to_dataframe(sort_by=\"price\", descendent=False)\n",
    "df"
   ],
   "outputs": [
    {
     "data": {
      "text/plain": [
       "                   name  price  protein  average_fat  carbohydrates  calories  \\\n",
       "2   5677250357088220810   12.6     95.6   356.179293           39.0    2780.0   \n",
       "8   5677250357088220810   12.6     95.6   356.179293           39.0    2780.0   \n",
       "5   6490619911036547666   12.5     95.5   360.101138           38.0    2770.0   \n",
       "0  -4653676530082691831    7.6     60.6   198.635545           24.0    1830.0   \n",
       "6  -4653676530082691831    7.6     60.6   198.635545           24.0    1830.0   \n",
       "3    727857978121602185    7.5     60.5   202.557390           23.0    1820.0   \n",
       "9    727857978121602185    7.5     60.5   202.557390           23.0    1820.0   \n",
       "4   2017671601677031864    6.6     45.6   221.558299           29.0    1080.0   \n",
       "1  -3839855211923354122    6.5     45.5   225.480144           28.0    1070.0   \n",
       "7  -3839855211923354122    6.5     45.5   225.480144           28.0    1070.0   \n",
       "\n",
       "                                         ingredients  \n",
       "2  [WHOLEMEAL DOUGH, CREAM SAUCE, MOZZRELA, CHEDD...  \n",
       "8  [WHOLEMEAL DOUGH, CREAM SAUCE, MOZZRELA, CHEDD...  \n",
       "5  [WHOLEMEAL DOUGH, TOMATO SAUCE, MOZZRELA, CHED...  \n",
       "0  [CLASSIC DOUGH, CREAM SAUCE, MOZZRELA, PINEAPP...  \n",
       "6  [CLASSIC DOUGH, CREAM SAUCE, MOZZRELA, PINEAPP...  \n",
       "3  [CLASSIC DOUGH, TOMATO SAUCE, MOZZRELA, PINEAP...  \n",
       "9  [CLASSIC DOUGH, TOMATO SAUCE, MOZZRELA, PINEAP...  \n",
       "4  [THIN DOUGH, CREAM SAUCE, CHEDDAR, APPLE, SAUS...  \n",
       "1  [THIN DOUGH, TOMATO SAUCE, CHEDDAR, APPLE, SAU...  \n",
       "7  [THIN DOUGH, TOMATO SAUCE, CHEDDAR, APPLE, SAU...  "
      ],
      "text/html": [
       "<div>\n",
       "<style scoped>\n",
       "    .dataframe tbody tr th:only-of-type {\n",
       "        vertical-align: middle;\n",
       "    }\n",
       "\n",
       "    .dataframe tbody tr th {\n",
       "        vertical-align: top;\n",
       "    }\n",
       "\n",
       "    .dataframe thead th {\n",
       "        text-align: right;\n",
       "    }\n",
       "</style>\n",
       "<table border=\"1\" class=\"dataframe\">\n",
       "  <thead>\n",
       "    <tr style=\"text-align: right;\">\n",
       "      <th></th>\n",
       "      <th>name</th>\n",
       "      <th>price</th>\n",
       "      <th>protein</th>\n",
       "      <th>average_fat</th>\n",
       "      <th>carbohydrates</th>\n",
       "      <th>calories</th>\n",
       "      <th>ingredients</th>\n",
       "    </tr>\n",
       "  </thead>\n",
       "  <tbody>\n",
       "    <tr>\n",
       "      <th>2</th>\n",
       "      <td>5677250357088220810</td>\n",
       "      <td>12.6</td>\n",
       "      <td>95.6</td>\n",
       "      <td>356.179293</td>\n",
       "      <td>39.0</td>\n",
       "      <td>2780.0</td>\n",
       "      <td>[WHOLEMEAL DOUGH, CREAM SAUCE, MOZZRELA, CHEDD...</td>\n",
       "    </tr>\n",
       "    <tr>\n",
       "      <th>8</th>\n",
       "      <td>5677250357088220810</td>\n",
       "      <td>12.6</td>\n",
       "      <td>95.6</td>\n",
       "      <td>356.179293</td>\n",
       "      <td>39.0</td>\n",
       "      <td>2780.0</td>\n",
       "      <td>[WHOLEMEAL DOUGH, CREAM SAUCE, MOZZRELA, CHEDD...</td>\n",
       "    </tr>\n",
       "    <tr>\n",
       "      <th>5</th>\n",
       "      <td>6490619911036547666</td>\n",
       "      <td>12.5</td>\n",
       "      <td>95.5</td>\n",
       "      <td>360.101138</td>\n",
       "      <td>38.0</td>\n",
       "      <td>2770.0</td>\n",
       "      <td>[WHOLEMEAL DOUGH, TOMATO SAUCE, MOZZRELA, CHED...</td>\n",
       "    </tr>\n",
       "    <tr>\n",
       "      <th>0</th>\n",
       "      <td>-4653676530082691831</td>\n",
       "      <td>7.6</td>\n",
       "      <td>60.6</td>\n",
       "      <td>198.635545</td>\n",
       "      <td>24.0</td>\n",
       "      <td>1830.0</td>\n",
       "      <td>[CLASSIC DOUGH, CREAM SAUCE, MOZZRELA, PINEAPP...</td>\n",
       "    </tr>\n",
       "    <tr>\n",
       "      <th>6</th>\n",
       "      <td>-4653676530082691831</td>\n",
       "      <td>7.6</td>\n",
       "      <td>60.6</td>\n",
       "      <td>198.635545</td>\n",
       "      <td>24.0</td>\n",
       "      <td>1830.0</td>\n",
       "      <td>[CLASSIC DOUGH, CREAM SAUCE, MOZZRELA, PINEAPP...</td>\n",
       "    </tr>\n",
       "    <tr>\n",
       "      <th>3</th>\n",
       "      <td>727857978121602185</td>\n",
       "      <td>7.5</td>\n",
       "      <td>60.5</td>\n",
       "      <td>202.557390</td>\n",
       "      <td>23.0</td>\n",
       "      <td>1820.0</td>\n",
       "      <td>[CLASSIC DOUGH, TOMATO SAUCE, MOZZRELA, PINEAP...</td>\n",
       "    </tr>\n",
       "    <tr>\n",
       "      <th>9</th>\n",
       "      <td>727857978121602185</td>\n",
       "      <td>7.5</td>\n",
       "      <td>60.5</td>\n",
       "      <td>202.557390</td>\n",
       "      <td>23.0</td>\n",
       "      <td>1820.0</td>\n",
       "      <td>[CLASSIC DOUGH, TOMATO SAUCE, MOZZRELA, PINEAP...</td>\n",
       "    </tr>\n",
       "    <tr>\n",
       "      <th>4</th>\n",
       "      <td>2017671601677031864</td>\n",
       "      <td>6.6</td>\n",
       "      <td>45.6</td>\n",
       "      <td>221.558299</td>\n",
       "      <td>29.0</td>\n",
       "      <td>1080.0</td>\n",
       "      <td>[THIN DOUGH, CREAM SAUCE, CHEDDAR, APPLE, SAUS...</td>\n",
       "    </tr>\n",
       "    <tr>\n",
       "      <th>1</th>\n",
       "      <td>-3839855211923354122</td>\n",
       "      <td>6.5</td>\n",
       "      <td>45.5</td>\n",
       "      <td>225.480144</td>\n",
       "      <td>28.0</td>\n",
       "      <td>1070.0</td>\n",
       "      <td>[THIN DOUGH, TOMATO SAUCE, CHEDDAR, APPLE, SAU...</td>\n",
       "    </tr>\n",
       "    <tr>\n",
       "      <th>7</th>\n",
       "      <td>-3839855211923354122</td>\n",
       "      <td>6.5</td>\n",
       "      <td>45.5</td>\n",
       "      <td>225.480144</td>\n",
       "      <td>28.0</td>\n",
       "      <td>1070.0</td>\n",
       "      <td>[THIN DOUGH, TOMATO SAUCE, CHEDDAR, APPLE, SAU...</td>\n",
       "    </tr>\n",
       "  </tbody>\n",
       "</table>\n",
       "</div>"
      ]
     },
     "execution_count": 3,
     "metadata": {},
     "output_type": "execute_result"
    }
   ],
   "execution_count": 3
  },
  {
   "metadata": {
    "ExecuteTime": {
     "end_time": "2024-09-30T09:58:27.154325Z",
     "start_time": "2024-09-30T09:58:27.145087Z"
    }
   },
   "cell_type": "code",
   "source": [
    "# compute basic descriptive statistics for the menu.\n",
    "# pay a special attention to the price column, as it is the most important one\n",
    "df.describe()\n",
    "# Following steps are optional, but recommended:\n",
    "# 1. Create a boxplot for the price column\n",
    "# 2. Create a histogram for the price column\n",
    "# 3. Create a scatter plot for the price column and any other column of your choice\n"
   ],
   "outputs": [
    {
     "data": {
      "text/plain": [
       "          price    protein  average_fat  carbohydrates     calories\n",
       "count  10.00000  10.000000    10.000000      10.000000    10.000000\n",
       "mean    8.75000  66.550000   254.736418      29.500000  1885.000000\n",
       "std     2.67135  21.068737    71.674885       6.687468   697.316284\n",
       "min     6.50000  45.500000   198.635545      23.000000  1070.000000\n",
       "25%     6.82500  49.325000   202.557390      24.000000  1265.000000\n",
       "50%     7.55000  60.550000   223.519222      28.000000  1825.000000\n",
       "75%    11.27500  86.775000   323.504506      35.750000  2535.000000\n",
       "max    12.60000  95.600000   360.101138      39.000000  2780.000000"
      ],
      "text/html": [
       "<div>\n",
       "<style scoped>\n",
       "    .dataframe tbody tr th:only-of-type {\n",
       "        vertical-align: middle;\n",
       "    }\n",
       "\n",
       "    .dataframe tbody tr th {\n",
       "        vertical-align: top;\n",
       "    }\n",
       "\n",
       "    .dataframe thead th {\n",
       "        text-align: right;\n",
       "    }\n",
       "</style>\n",
       "<table border=\"1\" class=\"dataframe\">\n",
       "  <thead>\n",
       "    <tr style=\"text-align: right;\">\n",
       "      <th></th>\n",
       "      <th>price</th>\n",
       "      <th>protein</th>\n",
       "      <th>average_fat</th>\n",
       "      <th>carbohydrates</th>\n",
       "      <th>calories</th>\n",
       "    </tr>\n",
       "  </thead>\n",
       "  <tbody>\n",
       "    <tr>\n",
       "      <th>count</th>\n",
       "      <td>10.00000</td>\n",
       "      <td>10.000000</td>\n",
       "      <td>10.000000</td>\n",
       "      <td>10.000000</td>\n",
       "      <td>10.000000</td>\n",
       "    </tr>\n",
       "    <tr>\n",
       "      <th>mean</th>\n",
       "      <td>8.75000</td>\n",
       "      <td>66.550000</td>\n",
       "      <td>254.736418</td>\n",
       "      <td>29.500000</td>\n",
       "      <td>1885.000000</td>\n",
       "    </tr>\n",
       "    <tr>\n",
       "      <th>std</th>\n",
       "      <td>2.67135</td>\n",
       "      <td>21.068737</td>\n",
       "      <td>71.674885</td>\n",
       "      <td>6.687468</td>\n",
       "      <td>697.316284</td>\n",
       "    </tr>\n",
       "    <tr>\n",
       "      <th>min</th>\n",
       "      <td>6.50000</td>\n",
       "      <td>45.500000</td>\n",
       "      <td>198.635545</td>\n",
       "      <td>23.000000</td>\n",
       "      <td>1070.000000</td>\n",
       "    </tr>\n",
       "    <tr>\n",
       "      <th>25%</th>\n",
       "      <td>6.82500</td>\n",
       "      <td>49.325000</td>\n",
       "      <td>202.557390</td>\n",
       "      <td>24.000000</td>\n",
       "      <td>1265.000000</td>\n",
       "    </tr>\n",
       "    <tr>\n",
       "      <th>50%</th>\n",
       "      <td>7.55000</td>\n",
       "      <td>60.550000</td>\n",
       "      <td>223.519222</td>\n",
       "      <td>28.000000</td>\n",
       "      <td>1825.000000</td>\n",
       "    </tr>\n",
       "    <tr>\n",
       "      <th>75%</th>\n",
       "      <td>11.27500</td>\n",
       "      <td>86.775000</td>\n",
       "      <td>323.504506</td>\n",
       "      <td>35.750000</td>\n",
       "      <td>2535.000000</td>\n",
       "    </tr>\n",
       "    <tr>\n",
       "      <th>max</th>\n",
       "      <td>12.60000</td>\n",
       "      <td>95.600000</td>\n",
       "      <td>360.101138</td>\n",
       "      <td>39.000000</td>\n",
       "      <td>2780.000000</td>\n",
       "    </tr>\n",
       "  </tbody>\n",
       "</table>\n",
       "</div>"
      ]
     },
     "execution_count": 4,
     "metadata": {},
     "output_type": "execute_result"
    }
   ],
   "execution_count": 4
  },
  {
   "cell_type": "code",
   "metadata": {
    "ExecuteTime": {
     "end_time": "2024-09-30T09:58:27.186450Z",
     "start_time": "2024-09-30T09:58:27.177026Z"
    }
   },
   "source": [
    "from maestro_pizza_maker import pizza_sensitivities\n",
    "\n",
    "# Try to answer follwing question:\n",
    "# 1. How much will price change on average if we increase the amount of protein in the pizza by 1 unit?\n",
    "display(\"for protein it will change by \" + str(pizza_sensitivities.menu_sensitivity_protein(pizza_menu)))\n",
    "# 2. How much will price change on average if we increase the amount of average_fat in the pizza by 1 unit?\n",
    "display(\"for fat it will change by \" +str( pizza_sensitivities.menu_sensitivity_fat(pizza_menu)))\n",
    "# 3. How much will price change on average if we increase the amount of carbohydrates in the pizza by 1 unit?\n",
    "display(\"for carbs it will change by\" +str(pizza_sensitivities.menu_sensitivity_carbs(pizza_menu)))\n",
    "# Hint: use functions that you have implemented in the pizza_sensitivities.py\n"
   ],
   "outputs": [
    {
     "data": {
      "text/plain": [
       "'for protein it will change by 0.12536216919793997'"
      ]
     },
     "metadata": {},
     "output_type": "display_data"
    },
    {
     "data": {
      "text/plain": [
       "'for fat it will change by 0.035442246189268986'"
      ]
     },
     "metadata": {},
     "output_type": "display_data"
    },
    {
     "data": {
      "text/plain": [
       "'for carbs it will change by0.35217391304347745'"
      ]
     },
     "metadata": {},
     "output_type": "display_data"
    }
   ],
   "execution_count": 5
  },
  {
   "cell_type": "code",
   "metadata": {
    "ExecuteTime": {
     "end_time": "2024-09-30T09:58:27.543008Z",
     "start_time": "2024-09-30T09:58:27.324252Z"
    }
   },
   "source": [
    "from maestro_pizza_maker import taste_at_risk\n",
    "\n",
    "# Compute Taste at Risk (TaR) for each pizza in the menu and for the whole menu and briefly comment on the results\n",
    "\n",
    "# Use quantile = 0.1\n",
    "# Answer following question:\n",
    "# 1. Does the sum of TaR for each pizza in the menu equal to the TaR of the whole menu and why?\n",
    "\n",
    "# The 10th percentile (quantile = 0.1) of a combined distribution is not simply the sum of the 10th percentiles of the individual distributions. \n",
    "# The overall distribution might have different properties (e.g., heavier or lighter tails, variability) that affect the TaR calculation. \n",
    "# When we aggregate the tastes of multiple pizzas, the combined distribution may smooth out extreme values, leading to a lower or higher overall TaR.\n",
    "\n",
    "for pizza in pizza_menu.pizzas:\n",
    "    display(f\"Pizza with Name {pizza.name} has a TaR value of {taste_at_risk.taste_at_risk_pizza(pizza, 0.1)}\")\n",
    "\n",
    "display(f\"The Pizza menu has a TaR value of {taste_at_risk.taste_at_risk_menu(pizza_menu, 0.1)}\")\n",
    "#Hint: use functions that you have implemented in the taste_at_risk.py\n"
   ],
   "outputs": [
    {
     "data": {
      "text/plain": [
       "'Pizza with Name -4653676530082691831 has a TaR value of 32.476586775140646'"
      ]
     },
     "metadata": {},
     "output_type": "display_data"
    },
    {
     "data": {
      "text/plain": [
       "'Pizza with Name -3839855211923354122 has a TaR value of 30.129597827934166'"
      ]
     },
     "metadata": {},
     "output_type": "display_data"
    },
    {
     "data": {
      "text/plain": [
       "'Pizza with Name 5677250357088220810 has a TaR value of 55.85676680832234'"
      ]
     },
     "metadata": {},
     "output_type": "display_data"
    },
    {
     "data": {
      "text/plain": [
       "'Pizza with Name 727857978121602185 has a TaR value of 33.24918812188941'"
      ]
     },
     "metadata": {},
     "output_type": "display_data"
    },
    {
     "data": {
      "text/plain": [
       "'Pizza with Name 2017671601677031864 has a TaR value of 29.33366974025572'"
      ]
     },
     "metadata": {},
     "output_type": "display_data"
    },
    {
     "data": {
      "text/plain": [
       "'Pizza with Name 6490619911036547666 has a TaR value of 56.69783990698584'"
      ]
     },
     "metadata": {},
     "output_type": "display_data"
    },
    {
     "data": {
      "text/plain": [
       "'Pizza with Name -4653676530082691831 has a TaR value of 32.476586775140646'"
      ]
     },
     "metadata": {},
     "output_type": "display_data"
    },
    {
     "data": {
      "text/plain": [
       "'Pizza with Name -3839855211923354122 has a TaR value of 30.129597827934166'"
      ]
     },
     "metadata": {},
     "output_type": "display_data"
    },
    {
     "data": {
      "text/plain": [
       "'Pizza with Name 5677250357088220810 has a TaR value of 55.85676680832234'"
      ]
     },
     "metadata": {},
     "output_type": "display_data"
    },
    {
     "data": {
      "text/plain": [
       "'Pizza with Name 727857978121602185 has a TaR value of 33.24918812188941'"
      ]
     },
     "metadata": {},
     "output_type": "display_data"
    },
    {
     "data": {
      "text/plain": [
       "'The Pizza menu has a TaR value of 31.312245433306504'"
      ]
     },
     "metadata": {},
     "output_type": "display_data"
    }
   ],
   "execution_count": 6
  },
  {
   "cell_type": "code",
   "metadata": {
    "ExecuteTime": {
     "end_time": "2024-09-30T09:58:27.758490Z",
     "start_time": "2024-09-30T09:58:27.560128Z"
    }
   },
   "source": [
    "# Compute Conditional Taste at Risk (CTaR) for each pizza in the menu and for the whole menu and briefly comment on the results\n",
    "# The Conditional Taste at Risk (CTaR) for both individual pizzas and the entire menu is generally lower than the simple Taste at Risk (TaR). \n",
    "# This is because CTaR captures the average taste in the worst 10% of cases (below the quantile threshold), rather than just the single worst-case quantile. This approach accounts for the 'heavier tails' in the taste distribution, \n",
    "# reflecting a more comprehensive measure of risk.\n",
    "\n",
    "for pizza in pizza_menu.pizzas:\n",
    "    display(f\"Pizza with Name {pizza.name} has a CTaR value of {taste_at_risk.conditional_taste_at_risk_pizza(pizza, 0.1)}\")\n",
    "\n",
    "display(f\"The pizza menu has a CTaR value of {taste_at_risk.conditional_taste_at_risk_menu(pizza_menu, 0.1)}\")\n",
    "# Hint: use functions that you have implemented in the taste_at_risk.py"
   ],
   "outputs": [
    {
     "data": {
      "text/plain": [
       "'Pizza with Name -4653676530082691831 has a CTaR value of 31.18731374388673'"
      ]
     },
     "metadata": {},
     "output_type": "display_data"
    },
    {
     "data": {
      "text/plain": [
       "'Pizza with Name -3839855211923354122 has a CTaR value of 29.2631476746934'"
      ]
     },
     "metadata": {},
     "output_type": "display_data"
    },
    {
     "data": {
      "text/plain": [
       "'Pizza with Name 5677250357088220810 has a CTaR value of 53.94633563636055'"
      ]
     },
     "metadata": {},
     "output_type": "display_data"
    },
    {
     "data": {
      "text/plain": [
       "'Pizza with Name 727857978121602185 has a CTaR value of 32.07638101694104'"
      ]
     },
     "metadata": {},
     "output_type": "display_data"
    },
    {
     "data": {
      "text/plain": [
       "'Pizza with Name 2017671601677031864 has a CTaR value of 28.362021217317725'"
      ]
     },
     "metadata": {},
     "output_type": "display_data"
    },
    {
     "data": {
      "text/plain": [
       "'Pizza with Name 6490619911036547666 has a CTaR value of 54.83443702598048'"
      ]
     },
     "metadata": {},
     "output_type": "display_data"
    },
    {
     "data": {
      "text/plain": [
       "'Pizza with Name -4653676530082691831 has a CTaR value of 31.18731374388673'"
      ]
     },
     "metadata": {},
     "output_type": "display_data"
    },
    {
     "data": {
      "text/plain": [
       "'Pizza with Name -3839855211923354122 has a CTaR value of 29.2631476746934'"
      ]
     },
     "metadata": {},
     "output_type": "display_data"
    },
    {
     "data": {
      "text/plain": [
       "'Pizza with Name 5677250357088220810 has a CTaR value of 53.94633563636055'"
      ]
     },
     "metadata": {},
     "output_type": "display_data"
    },
    {
     "data": {
      "text/plain": [
       "'Pizza with Name 727857978121602185 has a CTaR value of 32.07638101694104'"
      ]
     },
     "metadata": {},
     "output_type": "display_data"
    },
    {
     "data": {
      "text/plain": [
       "'The pizza menu has a CTaR value of 30.08613033699273'"
      ]
     },
     "metadata": {},
     "output_type": "display_data"
    }
   ],
   "execution_count": 7
  },
  {
   "cell_type": "code",
   "metadata": {
    "ExecuteTime": {
     "end_time": "2024-09-30T09:58:29.530494Z",
     "start_time": "2024-09-30T09:58:27.788308Z"
    }
   },
   "source": [
    "import numpy as np\n",
    "from maestro_pizza_maker import pizza_optimizer\n",
    "\n",
    "# Define constraints_values and constraints_ingredients and find the optimal pizza using the func maximize_taste_penalty_price, that you have implemented in the pizza_optimizer.py\n",
    "# Use lambda_param = 0.5\n",
    "\n",
    "#as we only care about maximizing the function we just put all the value bounds to the maximum\n",
    "pizza_constraints_values = pizza_optimizer.PizzaConstraintsValues(\n",
    "    price=pizza_optimizer.ValueBounds(min=0, max=np.inf),\n",
    "    protein=pizza_optimizer.ValueBounds(min=0, max=np.inf),\n",
    "    fat=pizza_optimizer.ValueBounds(min=0, max=np.inf),\n",
    "    carbohydrates=pizza_optimizer.ValueBounds(min=0, max=np.inf),\n",
    "    calories=pizza_optimizer.ValueBounds(min=0, max=np.inf)\n",
    ")\n",
    "\n",
    "pizza_constraints_ingredients = pizza_optimizer.PizzaConstraintsIngredients(\n",
    "    cheese=3,\n",
    "    fruits=2,\n",
    "    meat=3,\n",
    "    vegetables=3,\n",
    "    dough=1,\n",
    "    sauce=1\n",
    ")\n",
    "\n",
    "# Add this pizza to the menu using the add_pizza method of the PizzaMenu class\n",
    "\n",
    "new_pizza = pizza_optimizer.maximize_taste_penalty_price(pizza_constraints_values, pizza_constraints_ingredients,0.5)\n",
    "pizza_menu.add_pizza(new_pizza)\n",
    "\n"
   ],
   "outputs": [
    {
     "name": "stdout",
     "output_type": "stream",
     "text": [
      "Welcome to the CBC MILP Solver \n",
      "Version: Trunk\n",
      "Build Date: Oct 24 2021 \n",
      "\n",
      "Starting solution of the Linear programming relaxation problem using Primal Simplex\n",
      "\n",
      "Clp0024I Matrix will be packed to eliminate 12 small elements\n",
      "Coin0506I Presolve 0 (-14) rows, 0 (-16) columns and 0 (-132) elements\n",
      "Clp0000I Optimal - objective value 64.227295\n",
      "Coin0511I After Postsolve, objective 64.227295, infeasibilities - dual 0 (0), primal 0 (0)\n",
      "Clp0032I Optimal objective 64.22729462 - 0 iterations time 0.002, Presolve 0.00, Idiot 0.00\n",
      "\n",
      "Starting MIP optimization\n"
     ]
    }
   ],
   "execution_count": 8
  },
  {
   "cell_type": "code",
   "metadata": {
    "ExecuteTime": {
     "end_time": "2024-09-30T09:58:30.073014Z",
     "start_time": "2024-09-30T09:58:29.599967Z"
    }
   },
   "source": [
    "# Compute the new TaR and CTaR for the whole new menu with added pizza\n",
    "for pizza in pizza_menu.pizzas:\n",
    "    display(f\"Pizza with Name {pizza.name} has a TaR value of {taste_at_risk.taste_at_risk_pizza(pizza, 0.1)}\")\n",
    "\n",
    "display(f\"The Pizza menu has a TaR value of {taste_at_risk.taste_at_risk_menu(pizza_menu, 0.1)}\")\n",
    "\n",
    "display(\"___________________________________________________________\")\n",
    "\n",
    "for pizza in pizza_menu.pizzas:\n",
    "    display(f\"Pizza with Name {pizza.name} has a CTaR value of {taste_at_risk.conditional_taste_at_risk_pizza(pizza, 0.1)}\")\n",
    "\n",
    "\n",
    "display(f\"The pizza menu has a CTaR value of {taste_at_risk.conditional_taste_at_risk_menu(pizza_menu, 0.1)}\")"
   ],
   "outputs": [
    {
     "data": {
      "text/plain": [
       "'Pizza with Name -4653676530082691831 has a TaR value of 32.476586775140646'"
      ]
     },
     "metadata": {},
     "output_type": "display_data"
    },
    {
     "data": {
      "text/plain": [
       "'Pizza with Name -3839855211923354122 has a TaR value of 30.129597827934166'"
      ]
     },
     "metadata": {},
     "output_type": "display_data"
    },
    {
     "data": {
      "text/plain": [
       "'Pizza with Name 5677250357088220810 has a TaR value of 55.85676680832234'"
      ]
     },
     "metadata": {},
     "output_type": "display_data"
    },
    {
     "data": {
      "text/plain": [
       "'Pizza with Name 727857978121602185 has a TaR value of 33.24918812188941'"
      ]
     },
     "metadata": {},
     "output_type": "display_data"
    },
    {
     "data": {
      "text/plain": [
       "'Pizza with Name 2017671601677031864 has a TaR value of 29.33366974025572'"
      ]
     },
     "metadata": {},
     "output_type": "display_data"
    },
    {
     "data": {
      "text/plain": [
       "'Pizza with Name 6490619911036547666 has a TaR value of 56.69783990698584'"
      ]
     },
     "metadata": {},
     "output_type": "display_data"
    },
    {
     "data": {
      "text/plain": [
       "'Pizza with Name -4653676530082691831 has a TaR value of 32.476586775140646'"
      ]
     },
     "metadata": {},
     "output_type": "display_data"
    },
    {
     "data": {
      "text/plain": [
       "'Pizza with Name -3839855211923354122 has a TaR value of 30.129597827934166'"
      ]
     },
     "metadata": {},
     "output_type": "display_data"
    },
    {
     "data": {
      "text/plain": [
       "'Pizza with Name 5677250357088220810 has a TaR value of 55.85676680832234'"
      ]
     },
     "metadata": {},
     "output_type": "display_data"
    },
    {
     "data": {
      "text/plain": [
       "'Pizza with Name 727857978121602185 has a TaR value of 33.24918812188941'"
      ]
     },
     "metadata": {},
     "output_type": "display_data"
    },
    {
     "data": {
      "text/plain": [
       "'Pizza with Name 4558512682371835484 has a TaR value of 65.18752121883595'"
      ]
     },
     "metadata": {},
     "output_type": "display_data"
    },
    {
     "data": {
      "text/plain": [
       "'The Pizza menu has a TaR value of 31.483564141748342'"
      ]
     },
     "metadata": {},
     "output_type": "display_data"
    },
    {
     "data": {
      "text/plain": [
       "'___________________________________________________________'"
      ]
     },
     "metadata": {},
     "output_type": "display_data"
    },
    {
     "data": {
      "text/plain": [
       "'Pizza with Name -4653676530082691831 has a CTaR value of 31.18731374388673'"
      ]
     },
     "metadata": {},
     "output_type": "display_data"
    },
    {
     "data": {
      "text/plain": [
       "'Pizza with Name -3839855211923354122 has a CTaR value of 29.2631476746934'"
      ]
     },
     "metadata": {},
     "output_type": "display_data"
    },
    {
     "data": {
      "text/plain": [
       "'Pizza with Name 5677250357088220810 has a CTaR value of 53.94633563636055'"
      ]
     },
     "metadata": {},
     "output_type": "display_data"
    },
    {
     "data": {
      "text/plain": [
       "'Pizza with Name 727857978121602185 has a CTaR value of 32.07638101694104'"
      ]
     },
     "metadata": {},
     "output_type": "display_data"
    },
    {
     "data": {
      "text/plain": [
       "'Pizza with Name 2017671601677031864 has a CTaR value of 28.362021217317725'"
      ]
     },
     "metadata": {},
     "output_type": "display_data"
    },
    {
     "data": {
      "text/plain": [
       "'Pizza with Name 6490619911036547666 has a CTaR value of 54.83443702598048'"
      ]
     },
     "metadata": {},
     "output_type": "display_data"
    },
    {
     "data": {
      "text/plain": [
       "'Pizza with Name -4653676530082691831 has a CTaR value of 31.18731374388673'"
      ]
     },
     "metadata": {},
     "output_type": "display_data"
    },
    {
     "data": {
      "text/plain": [
       "'Pizza with Name -3839855211923354122 has a CTaR value of 29.2631476746934'"
      ]
     },
     "metadata": {},
     "output_type": "display_data"
    },
    {
     "data": {
      "text/plain": [
       "'Pizza with Name 5677250357088220810 has a CTaR value of 53.94633563636055'"
      ]
     },
     "metadata": {},
     "output_type": "display_data"
    },
    {
     "data": {
      "text/plain": [
       "'Pizza with Name 727857978121602185 has a CTaR value of 32.07638101694104'"
      ]
     },
     "metadata": {},
     "output_type": "display_data"
    },
    {
     "data": {
      "text/plain": [
       "'Pizza with Name 4558512682371835484 has a CTaR value of 62.81837226130249'"
      ]
     },
     "metadata": {},
     "output_type": "display_data"
    },
    {
     "data": {
      "text/plain": [
       "'The pizza menu has a CTaR value of 30.205163001098434'"
      ]
     },
     "metadata": {},
     "output_type": "display_data"
    }
   ],
   "execution_count": 9
  },
  {
   "cell_type": "code",
   "execution_count": 10,
   "metadata": {},
   "outputs": [],
   "source": [
    "# Compare old and new TaR and CTaR and briefly comment on the results.\n",
    "# After adding the new pizza, the TaR and CTaR for individual pizzas remain unchanged, as the new pizza has no effect on them. Since TaR focuses only on the lower tail of the distribution, \n",
    "# adding a pizza that maximizes taste and falls in higher percentiles has minimal impact on the menu's overall TaR, only slightly increasing it. \n",
    "# The same applies to CTaR for the menu. Adding a high-taste pizza shifts the overall taste distribution upward, but CTaR, which focuses on the lower-end pizzas, sees only a minor change.\n"
   ]
  }
 ],
 "metadata": {
  "kernelspec": {
   "display_name": "pizza-maker-awB5Ok4Q-py3.10",
   "language": "python",
   "name": "python3"
  },
  "language_info": {
   "codemirror_mode": {
    "name": "ipython",
    "version": 3
   },
   "file_extension": ".py",
   "mimetype": "text/x-python",
   "name": "python",
   "nbconvert_exporter": "python",
   "pygments_lexer": "ipython3",
   "version": "3.10.6"
  },
  "orig_nbformat": 4
 },
 "nbformat": 4,
 "nbformat_minor": 2
}
